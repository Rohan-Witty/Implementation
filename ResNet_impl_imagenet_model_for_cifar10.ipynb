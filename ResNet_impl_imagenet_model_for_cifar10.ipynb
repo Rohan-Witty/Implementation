{
  "nbformat": 4,
  "nbformat_minor": 0,
  "metadata": {
    "colab": {
      "name": "ResNet_impl_imagenet_model_for_cifar10.ipynb",
      "provenance": [],
      "include_colab_link": true
    },
    "kernelspec": {
      "name": "python3",
      "display_name": "Python 3"
    },
    "language_info": {
      "name": "python"
    },
    "accelerator": "GPU"
  },
  "cells": [
    {
      "cell_type": "markdown",
      "metadata": {
        "id": "view-in-github",
        "colab_type": "text"
      },
      "source": [
        "<a href=\"https://colab.research.google.com/github/Rohan-Witty/Implementation/blob/main/ResNet_impl_imagenet_model_for_cifar10.ipynb\" target=\"_parent\"><img src=\"https://colab.research.google.com/assets/colab-badge.svg\" alt=\"Open In Colab\"/></a>"
      ]
    },
    {
      "cell_type": "code",
      "metadata": {
        "id": "qnlbfyDnnUyp"
      },
      "source": [
        "import torch\n",
        "from torch import nn\n",
        "from torch.utils.data import DataLoader\n",
        "from torchvision import datasets\n",
        "from torchvision.transforms import ToTensor, Lambda, Compose\n",
        "import matplotlib.pyplot as plt"
      ],
      "execution_count": null,
      "outputs": []
    },
    {
      "cell_type": "code",
      "metadata": {
        "colab": {
          "base_uri": "https://localhost:8080/"
        },
        "id": "tbSG_F5YHEom",
        "outputId": "32c15e57-20f3-46e7-a649-f5e445daee1a"
      },
      "source": [
        "from google.colab import drive\n",
        "drive.mount('/content/drive')"
      ],
      "execution_count": null,
      "outputs": [
        {
          "output_type": "stream",
          "text": [
            "Drive already mounted at /content/drive; to attempt to forcibly remount, call drive.mount(\"/content/drive\", force_remount=True).\n"
          ],
          "name": "stdout"
        }
      ]
    },
    {
      "cell_type": "code",
      "metadata": {
        "colab": {
          "base_uri": "https://localhost:8080/"
        },
        "id": "1u8ttKCFZ2Rj",
        "outputId": "685e5843-bb3b-4dcf-c4b0-be639f7d9a1e"
      },
      "source": [
        "training_data = datasets.CIFAR10(\n",
        "    root = './data',\n",
        "    train = True,\n",
        "    download = True,\n",
        "    transform = ToTensor(),\n",
        ")\n",
        "testing_data = datasets.CIFAR10(\n",
        "    root = './data',\n",
        "    train = False,\n",
        "    download = True,\n",
        "    transform = ToTensor(),\n",
        ")"
      ],
      "execution_count": null,
      "outputs": [
        {
          "output_type": "stream",
          "text": [
            "Files already downloaded and verified\n",
            "Files already downloaded and verified\n"
          ],
          "name": "stdout"
        }
      ]
    },
    {
      "cell_type": "code",
      "metadata": {
        "colab": {
          "base_uri": "https://localhost:8080/"
        },
        "id": "-XKf8r4Jci5I",
        "outputId": "62f6a361-1527-49a2-d133-0c58e00d575a"
      },
      "source": [
        "batch_size = 128\n",
        "\n",
        "train_dataloader = DataLoader(training_data, batch_size = batch_size)\n",
        "test_dataloader = DataLoader(testing_data, batch_size = batch_size)\n",
        "for X, y in test_dataloader:\n",
        "    print(\"Shape of X [N, C, H, W]: \", X.shape, X.dtype)\n",
        "    print(\"Shape of y: \", y.shape, y.dtype)\n",
        "    break"
      ],
      "execution_count": null,
      "outputs": [
        {
          "output_type": "stream",
          "text": [
            "Shape of X [N, C, H, W]:  torch.Size([128, 3, 32, 32]) torch.float32\n",
            "Shape of y:  torch.Size([128]) torch.int64\n"
          ],
          "name": "stdout"
        }
      ]
    },
    {
      "cell_type": "code",
      "metadata": {
        "colab": {
          "base_uri": "https://localhost:8080/"
        },
        "id": "FyxEn-uRd9v5",
        "outputId": "3520f989-3f2b-4176-d663-2ae95fcd1bb3"
      },
      "source": [
        "torch.cuda.is_available()"
      ],
      "execution_count": null,
      "outputs": [
        {
          "output_type": "execute_result",
          "data": {
            "text/plain": [
              "True"
            ]
          },
          "metadata": {
            "tags": []
          },
          "execution_count": 49
        }
      ]
    },
    {
      "cell_type": "code",
      "metadata": {
        "id": "qCe8NEtwfptK"
      },
      "source": [
        "class VggLike(nn.Module):\n",
        "    def __init__(self):\n",
        "        super(VggLike, self).__init__()\n",
        "        self.conv_stack_1 = nn.Sequential(\n",
        "            nn.Conv2d(in_channels = 3, out_channels = 64, kernel_size= (7,7), stride = 2, padding=3)\n",
        "        )\n",
        "        self.conv_stack_2 = nn.Sequential(\n",
        "            nn.MaxPool2d(kernel_size= (3,3), stride=2, padding = 1),\n",
        "            nn.Conv2d(in_channels = 64, out_channels = 64, kernel_size= (3,3), stride = 1, padding = 'same',),\n",
        "            nn.BatchNorm2d(64, eps=1e-05, momentum=0.1,),\n",
        "            nn.ReLU(),\n",
        "            nn.Conv2d(in_channels = 64, out_channels = 64, kernel_size= (3,3), stride = 1, padding = 'same',),\n",
        "            nn.BatchNorm2d(64, eps=1e-05, momentum=0.1,),\n",
        "            nn.ReLU(),\n",
        "            nn.Conv2d(in_channels = 64, out_channels = 64, kernel_size= (3,3), stride = 1, padding = 'same',),\n",
        "            nn.BatchNorm2d(64, eps=1e-05, momentum=0.1,),\n",
        "            nn.ReLU(),\n",
        "            nn.Conv2d(in_channels = 64, out_channels = 64, kernel_size= (3,3), stride = 1, padding = 'same',),\n",
        "            nn.BatchNorm2d(64, eps=1e-05, momentum=0.1,),\n",
        "            nn.ReLU(),\n",
        "        )\n",
        "        self.conv_stack_3 = nn.Sequential(\n",
        "            nn.Conv2d(in_channels = 64, out_channels = 128, kernel_size= (3,3), stride = 2,padding = 1),\n",
        "            nn.BatchNorm2d(128, eps=1e-05, momentum=0.1,),\n",
        "            nn.ReLU(),\n",
        "            nn.Conv2d(in_channels = 128, out_channels = 128, kernel_size= (3,3), stride = 1, padding = 'same',),\n",
        "            nn.BatchNorm2d(128, eps=1e-05, momentum=0.1,),\n",
        "            nn.ReLU(),\n",
        "            nn.Conv2d(in_channels = 128, out_channels = 128, kernel_size= (3,3), stride = 1, padding = 'same',),\n",
        "            nn.BatchNorm2d(128, eps=1e-05, momentum=0.1,),\n",
        "            nn.ReLU(),\n",
        "            nn.Conv2d(in_channels = 128, out_channels = 128, kernel_size= (3,3), stride = 1, padding = 'same',),\n",
        "            nn.BatchNorm2d(128, eps=1e-05, momentum=0.1,),\n",
        "            nn.ReLU(),\n",
        "        )\n",
        "        self.conv_stack_4 = nn.Sequential(\n",
        "            nn.Conv2d(in_channels = 128, out_channels = 256, kernel_size= (3,3), stride = 2, padding = 1),\n",
        "            nn.BatchNorm2d(256, eps=1e-05, momentum=0.1,),\n",
        "            nn.ReLU(),\n",
        "            nn.Conv2d(in_channels = 256, out_channels = 256, kernel_size= (3,3), stride = 1, padding = 'same',),\n",
        "            nn.BatchNorm2d(256, eps=1e-05, momentum=0.1,),\n",
        "            nn.ReLU(),\n",
        "            nn.Conv2d(in_channels = 256, out_channels = 256, kernel_size= (3,3), stride = 1, padding = 'same',),\n",
        "            nn.BatchNorm2d(256, eps=1e-05, momentum=0.1,),\n",
        "            nn.ReLU(),\n",
        "            nn.Conv2d(in_channels = 256, out_channels = 256, kernel_size= (3,3), stride = 1, padding = 'same',),\n",
        "            nn.BatchNorm2d(256, eps=1e-05, momentum=0.1,),\n",
        "            nn.ReLU(),\n",
        "        )\n",
        "        self.conv_stack_5 = nn.Sequential(\n",
        "            nn.Conv2d(in_channels = 256, out_channels = 512, kernel_size= (3,3), stride = 2, padding = 1),\n",
        "            nn.BatchNorm2d(512, eps=1e-05, momentum=0.1,),\n",
        "            nn.ReLU(),\n",
        "            nn.Conv2d(in_channels = 512, out_channels = 512, kernel_size= (3,3), stride = 1, padding = 'same',),\n",
        "            nn.BatchNorm2d(512, eps=1e-05, momentum=0.1,),\n",
        "            nn.ReLU(),\n",
        "            nn.Conv2d(in_channels = 512, out_channels = 512, kernel_size= (3,3), stride = 1, padding = 'same',),\n",
        "            nn.BatchNorm2d(512, eps=1e-05, momentum=0.1,),\n",
        "            nn.ReLU(),\n",
        "            nn.Conv2d(in_channels = 512, out_channels = 512, kernel_size= (3,3), stride = 1, padding = 'same',),\n",
        "            nn.BatchNorm2d(512, eps=1e-05, momentum=0.1,),\n",
        "            nn.ReLU(),\n",
        "            nn.AvgPool2d(kernel_size= (3,3), stride =1, ),\n",
        "        )\n",
        "        self.fcsoftmax = nn.Sequential(\n",
        "            nn.Linear(12800,10),\n",
        "            #nn.Softmax(1),\n",
        "        )\n",
        "        self.flatten = nn.Flatten()\n",
        "        \n",
        "    def forward(self, x):\n",
        "        x = self.conv_stack_1(x)\n",
        "        x = self.conv_stack_2(x)\n",
        "        x = self.conv_stack_3(x)\n",
        "        x = self.conv_stack_4(x)\n",
        "        x = self.conv_stack_5(x)\n",
        "        x = self.flatten(x)\n",
        "        logits = self.fcsoftmax(x)\n",
        "        return logits"
      ],
      "execution_count": null,
      "outputs": []
    },
    {
      "cell_type": "code",
      "metadata": {
        "id": "ywJ-b6vu33rA"
      },
      "source": [
        ""
      ],
      "execution_count": null,
      "outputs": []
    },
    {
      "cell_type": "code",
      "metadata": {
        "id": "QRf0Se4-4AC4"
      },
      "source": [
        "class ResNet(nn.Module):\n",
        "    def __init__(self):\n",
        "        super(ResNet, self).__init__()\n",
        "        self.conv_stack_1 = nn.Sequential(\n",
        "            nn.Conv2d(in_channels = 3, out_channels = 64, kernel_size= (7,7), stride = 2, padding=3)\n",
        "        )\n",
        "        self.conv_stack_2_pool = nn.Sequential(\n",
        "            nn.MaxPool2d(kernel_size= (3,3), stride=2, padding = 1),\n",
        "        )\n",
        "        self.conv_stack_2_1 = nn.Sequential(\n",
        "            nn.Conv2d(in_channels = 64, out_channels = 64, kernel_size= (3,3), stride = 1, padding = 'same',),\n",
        "            nn.BatchNorm2d(64, eps=1e-05, momentum=0.1, ),\n",
        "            nn.ReLU(),\n",
        "            nn.Conv2d(in_channels = 64, out_channels = 64, kernel_size= (3,3), stride = 1, padding = 'same',),\n",
        "            nn.BatchNorm2d(64, eps=1e-05, momentum=0.1,),\n",
        "        )\n",
        "        self.conv_stack_2_2 = nn.Sequential(    \n",
        "            nn.ReLU(),\n",
        "            nn.Conv2d(in_channels = 64, out_channels = 64, kernel_size= (3,3), stride = 1, padding = 'same',),\n",
        "            nn.BatchNorm2d(64, eps=1e-05, momentum=0.1,),\n",
        "            nn.ReLU(),\n",
        "            nn.Conv2d(in_channels = 64, out_channels = 64, kernel_size= (3,3), stride = 1, padding = 'same',),\n",
        "            nn.BatchNorm2d(64, eps=1e-05, momentum=0.1,),\n",
        "        )\n",
        "        self.conv_stack_3_1 = nn.Sequential(\n",
        "            nn.ReLU(),\n",
        "            nn.Conv2d(in_channels = 64, out_channels = 128, kernel_size= (3,3), stride = 2,padding = 1),\n",
        "            nn.BatchNorm2d(128, eps=1e-05, momentum=0.1,),\n",
        "            nn.ReLU(),\n",
        "            nn.Conv2d(in_channels = 128, out_channels = 128, kernel_size= (3,3), stride = 1, padding = 'same',),\n",
        "            nn.BatchNorm2d(128, eps=1e-05, momentum=0.1,),\n",
        "        )\n",
        "        self.conv_projection_1 = nn.Sequential(\n",
        "            nn.Conv2d(in_channels=64, out_channels=128, kernel_size=1, stride = 2),\n",
        "            nn.BatchNorm2d(128),\n",
        "        )\n",
        "        self.conv_stack_3_2 = nn.Sequential(\n",
        "            nn.ReLU(),\n",
        "            nn.Conv2d(in_channels = 128, out_channels = 128, kernel_size= (3,3), stride = 1, padding = 'same',),\n",
        "            nn.BatchNorm2d(128, eps=1e-05, momentum=0.1,),\n",
        "            nn.ReLU(),\n",
        "            nn.Conv2d(in_channels = 128, out_channels = 128, kernel_size= (3,3), stride = 1, padding = 'same',),\n",
        "            nn.BatchNorm2d(128, eps=1e-05, momentum=0.1,),\n",
        "        )\n",
        "        self.conv_stack_4_1 = nn.Sequential(\n",
        "            nn.ReLU(),\n",
        "            nn.Conv2d(in_channels = 128, out_channels = 256, kernel_size= (3,3), stride = 2, padding = 1),\n",
        "            nn.BatchNorm2d(256, eps=1e-05, momentum=0.1,),\n",
        "            nn.ReLU(),\n",
        "            nn.Conv2d(in_channels = 256, out_channels = 256, kernel_size= (3,3), stride = 1, padding = 'same',),\n",
        "            nn.BatchNorm2d(256, eps=1e-05, momentum=0.1,),\n",
        "        )\n",
        "        self.conv_projection_2 = nn.Sequential(\n",
        "            nn.Conv2d(in_channels=128, out_channels=256, kernel_size=1, stride = 2),\n",
        "            nn.BatchNorm2d(256),\n",
        "        )\n",
        "        self.conv_stack_4_2 = nn.Sequential(\n",
        "            nn.ReLU(),\n",
        "            nn.Conv2d(in_channels = 256, out_channels = 256, kernel_size= (3,3), stride = 1, padding = 'same',),\n",
        "            nn.BatchNorm2d(256, eps=1e-05, momentum=0.1,),\n",
        "            nn.ReLU(),\n",
        "            nn.Conv2d(in_channels = 256, out_channels = 256, kernel_size= (3,3), stride = 1, padding = 'same',),\n",
        "            nn.BatchNorm2d(256, eps=1e-05, momentum=0.1,),\n",
        "        )\n",
        "        self.conv_stack_5_1 = nn.Sequential(\n",
        "            nn.ReLU(),\n",
        "            nn.Conv2d(in_channels = 256, out_channels = 512, kernel_size= (3,3), stride = 2, padding = 1),\n",
        "            nn.BatchNorm2d(512, eps=1e-05, momentum=0.1,),\n",
        "            nn.ReLU(),\n",
        "            nn.Conv2d(in_channels = 512, out_channels = 512, kernel_size= (3,3), stride = 1, padding = 'same',),\n",
        "            nn.BatchNorm2d(512, eps=1e-05, momentum=0.1,),\n",
        "        )\n",
        "        self.conv_projection_3 = nn.Sequential(\n",
        "            nn.Conv2d(in_channels=256, out_channels=512, kernel_size=1, stride = 2),\n",
        "            nn.BatchNorm2d(512),\n",
        "        )\n",
        "        self.conv_stack_5_2 = nn.Sequential(\n",
        "            nn.ReLU(),\n",
        "            nn.Conv2d(in_channels = 512, out_channels = 512, kernel_size= (3,3), stride = 1, padding = 'same',),\n",
        "            nn.BatchNorm2d(512, eps=1e-05, momentum=0.1,),\n",
        "            nn.ReLU(),\n",
        "            nn.Conv2d(in_channels = 512, out_channels = 512, kernel_size= (3,3), stride = 1, padding = 'same',),\n",
        "            nn.BatchNorm2d(512, eps=1e-05, momentum=0.1,),\n",
        "        )\n",
        "        self.conv_stack_5_pool = nn.Sequential(            \n",
        "            nn.ReLU(),\n",
        "            nn.AvgPool2d(kernel_size= (3,3), stride =1, ),\n",
        "        )\n",
        "        self.fcsoftmax = nn.Sequential(\n",
        "            nn.Linear(12800,10),\n",
        "            #nn.Softmax(1),\n",
        "        )\n",
        "        self.flatten = nn.Flatten()\n",
        "        \n",
        "    def forward(self, x):\n",
        "        x_1 = self.conv_stack_1(x)\n",
        "        x_2_pool = self.conv_stack_2_pool(x_1)\n",
        "        x_2_1 = self.conv_stack_2_1(x_2_pool)\n",
        "        x_2_2 = self.conv_stack_2_2(x_2_1 + x_2_pool)\n",
        "        x_3_1 = self.conv_stack_3_1(x_2_2 + x_2_1)\n",
        "  \n",
        "        x_3_2 = self.conv_stack_3_2(x_3_1 + self.conv_projection_1(x_2_2))\n",
        "        x_4_1 = self.conv_stack_4_1(x_3_2 + x_3_1)\n",
        "\n",
        "        x_4_2 = self.conv_stack_4_2(x_4_1 + self.conv_projection_2(x_3_2))\n",
        "        x_5_1 = self.conv_stack_5_1(x_4_2 + x_4_1)\n",
        "        \n",
        "        x_5_2 = self.conv_stack_5_2(x_5_1 + self.conv_projection_3(x_4_2))\n",
        "        out = self.flatten(self.conv_stack_5_pool(x_5_2))\n",
        "        logits = self.fcsoftmax(out)\n",
        "        return logits"
      ],
      "execution_count": null,
      "outputs": []
    },
    {
      "cell_type": "code",
      "metadata": {
        "id": "CZdV7oHt_lC-"
      },
      "source": [
        "device = \"cuda\" if torch.cuda.is_available() else \"cpu\"\n",
        "model = VggLike().to(device)\n",
        "model.load_state_dict(torch.load('/content/drive/MyDrive/Implementations/Cifar1.pth',map_location=torch.device(device)))\n",
        "print(model)\n",
        "\n",
        "model_res = ResNet().to(device)\n",
        "model_res.load_state_dict(torch.load('/content/drive/MyDrive/Implementations/Cifar10resnet.pth',map_location=torch.device(device)))\n",
        "print(model_res)"
      ],
      "execution_count": null,
      "outputs": []
    },
    {
      "cell_type": "code",
      "metadata": {
        "id": "stoXpkUsAIQu"
      },
      "source": [
        "from torchsummary import summary\n",
        "summary(model, input_size=(3, 224, 224))\n",
        "\n",
        "summary(model_res, input_size = (3,224,224))"
      ],
      "execution_count": null,
      "outputs": []
    },
    {
      "cell_type": "code",
      "metadata": {
        "id": "cyybIujFPmZf"
      },
      "source": [
        "loss_fn = nn.CrossEntropyLoss()\n",
        "#optimizer = torch.optim.SGD(model_res.parameters(), lr=0.1,momentum = .9, weight_decay=.0001 ) Used for first 25 epochs in resnet and first 45 epochs in plain vgg-like\n",
        "optimizer = torch.optim.AdamW(model_res.parameters(), lr = 3e-3, weight_decay = 0.1)"
      ],
      "execution_count": null,
      "outputs": []
    },
    {
      "cell_type": "code",
      "metadata": {
        "id": "0i8qGEx4WZZ5"
      },
      "source": [
        "from torchvision.transforms import Resize, RandomHorizontalFlip, RandomCrop\n",
        "def preprocess(X):\n",
        "    X = RandomHorizontalFlip(p=0.5)(RandomCrop(224)(Resize(256)(X)))\n",
        "    return X"
      ],
      "execution_count": null,
      "outputs": []
    },
    {
      "cell_type": "code",
      "metadata": {
        "id": "PmUlYJISThq1"
      },
      "source": [
        "def train(dataloader, model, loss_fn, optimizer):\n",
        "    size = len(dataloader.dataset)\n",
        "    model.train()\n",
        "    \n",
        "    print(\"training size is :\", size)\n",
        "    for batch, (X, y) in enumerate(dataloader):\n",
        "        X, y = X.to(device), y.to(device)\n",
        "        X = preprocess(X)\n",
        "        # Compute prediction error\n",
        "        pred = model(X)\n",
        "        loss = loss_fn(pred, y)\n",
        "\n",
        "        # Backpropagation\n",
        "        optimizer.zero_grad()\n",
        "        loss.backward()\n",
        "        optimizer.step()\n",
        "\n",
        "        if batch % 100 == 0:\n",
        "            loss, current = loss.item(), batch * len(X)\n",
        "            print(f\"loss: {loss:>7f}  [{current:>5d}/{size:>5d}]\")"
      ],
      "execution_count": null,
      "outputs": []
    },
    {
      "cell_type": "code",
      "metadata": {
        "id": "vNYbiWMGVytM"
      },
      "source": [
        "def test(dataloader, model, loss_fn):\n",
        "    size = len(dataloader.dataset)\n",
        "    num_batches = len(dataloader)\n",
        "    model.eval()\n",
        "    test_loss, correct = 0, 0\n",
        "    print(\"training size is :\", size)\n",
        "    with torch.no_grad():\n",
        "        for X, y in dataloader:\n",
        "            X, y = X.to(device), y.to(device)\n",
        "            X = preprocess(X)\n",
        "            pred = model(X)\n",
        "            test_loss += loss_fn(pred, y).item()\n",
        "            correct += (pred.argmax(1) == y).type(torch.float).sum().item()\n",
        "    test_loss /= num_batches\n",
        "    correct /= size\n",
        "    print(f\"Test Error: \\n Accuracy: {(100*correct):>0.1f}%, Avg loss: {test_loss:>8f} \\n\")"
      ],
      "execution_count": null,
      "outputs": []
    },
    {
      "cell_type": "code",
      "metadata": {
        "id": "qnVfgkfciKkQ"
      },
      "source": [
        "def train_error(dataloader, model, loss_fn):\n",
        "    size = len(dataloader.dataset)\n",
        "    num_batches = len(dataloader)\n",
        "    model.eval()\n",
        "    test_loss, correct = 0, 0\n",
        "    print(\"training size is :\", size)\n",
        "    with torch.no_grad():\n",
        "        for X, y in dataloader:\n",
        "            X, y = X.to(device), y.to(device)\n",
        "            X = preprocess(X)\n",
        "            pred = model(X)\n",
        "            test_loss += loss_fn(pred, y).item()\n",
        "            correct += (pred.argmax(1) == y).type(torch.float).sum().item()\n",
        "    test_loss /= num_batches\n",
        "    correct /= size\n",
        "    print(f\"Train Error: \\n Accuracy: {(100*correct):>0.1f}%, Avg loss: {test_loss:>8f} \\n\")"
      ],
      "execution_count": null,
      "outputs": []
    },
    {
      "cell_type": "code",
      "metadata": {
        "id": "7KEH00B9V7hN"
      },
      "source": [
        "epochs = 20\n",
        "\n",
        "for t in range(epochs):\n",
        "    print(f\"Epoch {t+1}\\n-------------------------------\")\n",
        "    train(train_dataloader, model_res, loss_fn, optimizer)\n",
        "    test(test_dataloader, model_res, loss_fn)\n",
        "print(\"Done!\")"
      ],
      "execution_count": null,
      "outputs": []
    },
    {
      "cell_type": "code",
      "metadata": {
        "id": "lLf-KibJkTEm"
      },
      "source": [
        "torch.save(model_res.state_dict(), \"/content/drive/MyDrive/Implementations/Cifar10resnet.pth\")\n",
        "print(\"Saved PyTorch Model State to model.pth\")"
      ],
      "execution_count": null,
      "outputs": []
    },
    {
      "cell_type": "code",
      "metadata": {
        "colab": {
          "base_uri": "https://localhost:8080/"
        },
        "id": "xb0SlXUKhgOC",
        "outputId": "06e005da-55f1-4127-cc06-7969be93cbd7"
      },
      "source": [
        "print(\"For RESNET MODEL:\\n\")\n",
        "train_error(train_dataloader, model_res, loss_fn)\n",
        "test(test_dataloader, model_res, loss_fn)"
      ],
      "execution_count": null,
      "outputs": [
        {
          "output_type": "stream",
          "text": [
            "For RESNET MODEL:\n",
            "\n",
            "training size is : 50000\n",
            "Train Error: \n",
            " Accuracy: 89.4%, Avg loss: 0.309982 \n",
            "\n",
            "training size is : 10000\n",
            "Test Error: \n",
            " Accuracy: 84.9%, Avg loss: 0.482919 \n",
            "\n"
          ],
          "name": "stdout"
        }
      ]
    },
    {
      "cell_type": "code",
      "metadata": {
        "colab": {
          "base_uri": "https://localhost:8080/"
        },
        "id": "Up4PzXsMk8Wf",
        "outputId": "1af970f0-cdcf-43be-869f-2ce9ad919430"
      },
      "source": [
        "print(\"For VGG-Like PLAIN MODEL:\\n\")\n",
        "train_error(train_dataloader, model, loss_fn)\n",
        "test(test_dataloader, model, loss_fn)"
      ],
      "execution_count": null,
      "outputs": [
        {
          "output_type": "stream",
          "text": [
            "For VGG-Like PLAIN MODEL:\n",
            "\n",
            "training size is : 50000\n",
            "Train Error: \n",
            " Accuracy: 88.3%, Avg loss: 0.347580 \n",
            "\n",
            "training size is : 10000\n",
            "Test Error: \n",
            " Accuracy: 80.1%, Avg loss: 0.721762 \n",
            "\n"
          ],
          "name": "stdout"
        }
      ]
    }
  ]
}