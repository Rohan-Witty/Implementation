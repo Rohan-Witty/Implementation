{
  "nbformat": 4,
  "nbformat_minor": 0,
  "metadata": {
    "colab": {
      "name": "ResNet_impl_imagenet_model_for_cifar10.ipynb",
      "provenance": [],
      "include_colab_link": true
    },
    "kernelspec": {
      "name": "python3",
      "display_name": "Python 3"
    },
    "language_info": {
      "name": "python"
    },
    "accelerator": "GPU",
    "widgets": {
      "application/vnd.jupyter.widget-state+json": {
        "2cbbd4dd96664055bd812a4df95e7bba": {
          "model_module": "@jupyter-widgets/controls",
          "model_name": "HBoxModel",
          "state": {
            "_view_name": "HBoxView",
            "_dom_classes": [],
            "_model_name": "HBoxModel",
            "_view_module": "@jupyter-widgets/controls",
            "_model_module_version": "1.5.0",
            "_view_count": null,
            "_view_module_version": "1.5.0",
            "box_style": "",
            "layout": "IPY_MODEL_9c355713676b4185a00876eebef39772",
            "_model_module": "@jupyter-widgets/controls",
            "children": [
              "IPY_MODEL_ebf811863d0c4937a464cc20762032e2",
              "IPY_MODEL_743b44eb2153463b91f70869ea84b07c"
            ]
          }
        },
        "9c355713676b4185a00876eebef39772": {
          "model_module": "@jupyter-widgets/base",
          "model_name": "LayoutModel",
          "state": {
            "_view_name": "LayoutView",
            "grid_template_rows": null,
            "right": null,
            "justify_content": null,
            "_view_module": "@jupyter-widgets/base",
            "overflow": null,
            "_model_module_version": "1.2.0",
            "_view_count": null,
            "flex_flow": null,
            "width": null,
            "min_width": null,
            "border": null,
            "align_items": null,
            "bottom": null,
            "_model_module": "@jupyter-widgets/base",
            "top": null,
            "grid_column": null,
            "overflow_y": null,
            "overflow_x": null,
            "grid_auto_flow": null,
            "grid_area": null,
            "grid_template_columns": null,
            "flex": null,
            "_model_name": "LayoutModel",
            "justify_items": null,
            "grid_row": null,
            "max_height": null,
            "align_content": null,
            "visibility": null,
            "align_self": null,
            "height": null,
            "min_height": null,
            "padding": null,
            "grid_auto_rows": null,
            "grid_gap": null,
            "max_width": null,
            "order": null,
            "_view_module_version": "1.2.0",
            "grid_template_areas": null,
            "object_position": null,
            "object_fit": null,
            "grid_auto_columns": null,
            "margin": null,
            "display": null,
            "left": null
          }
        },
        "ebf811863d0c4937a464cc20762032e2": {
          "model_module": "@jupyter-widgets/controls",
          "model_name": "FloatProgressModel",
          "state": {
            "_view_name": "ProgressView",
            "style": "IPY_MODEL_c9a912886fc148fba4658cbba3251cf7",
            "_dom_classes": [],
            "description": "",
            "_model_name": "FloatProgressModel",
            "bar_style": "success",
            "max": 170498071,
            "_view_module": "@jupyter-widgets/controls",
            "_model_module_version": "1.5.0",
            "value": 170498071,
            "_view_count": null,
            "_view_module_version": "1.5.0",
            "orientation": "horizontal",
            "min": 0,
            "description_tooltip": null,
            "_model_module": "@jupyter-widgets/controls",
            "layout": "IPY_MODEL_5fc4ec6ec5384ef3bf347acaff77c394"
          }
        },
        "743b44eb2153463b91f70869ea84b07c": {
          "model_module": "@jupyter-widgets/controls",
          "model_name": "HTMLModel",
          "state": {
            "_view_name": "HTMLView",
            "style": "IPY_MODEL_b54f72908ad74e018a73bcd9e73872ad",
            "_dom_classes": [],
            "description": "",
            "_model_name": "HTMLModel",
            "placeholder": "​",
            "_view_module": "@jupyter-widgets/controls",
            "_model_module_version": "1.5.0",
            "value": " 170499072/? [00:07&lt;00:00, 22183974.07it/s]",
            "_view_count": null,
            "_view_module_version": "1.5.0",
            "description_tooltip": null,
            "_model_module": "@jupyter-widgets/controls",
            "layout": "IPY_MODEL_a63a00bb2dd4468891d0a5f2a623256c"
          }
        },
        "c9a912886fc148fba4658cbba3251cf7": {
          "model_module": "@jupyter-widgets/controls",
          "model_name": "ProgressStyleModel",
          "state": {
            "_view_name": "StyleView",
            "_model_name": "ProgressStyleModel",
            "description_width": "initial",
            "_view_module": "@jupyter-widgets/base",
            "_model_module_version": "1.5.0",
            "_view_count": null,
            "_view_module_version": "1.2.0",
            "bar_color": null,
            "_model_module": "@jupyter-widgets/controls"
          }
        },
        "5fc4ec6ec5384ef3bf347acaff77c394": {
          "model_module": "@jupyter-widgets/base",
          "model_name": "LayoutModel",
          "state": {
            "_view_name": "LayoutView",
            "grid_template_rows": null,
            "right": null,
            "justify_content": null,
            "_view_module": "@jupyter-widgets/base",
            "overflow": null,
            "_model_module_version": "1.2.0",
            "_view_count": null,
            "flex_flow": null,
            "width": null,
            "min_width": null,
            "border": null,
            "align_items": null,
            "bottom": null,
            "_model_module": "@jupyter-widgets/base",
            "top": null,
            "grid_column": null,
            "overflow_y": null,
            "overflow_x": null,
            "grid_auto_flow": null,
            "grid_area": null,
            "grid_template_columns": null,
            "flex": null,
            "_model_name": "LayoutModel",
            "justify_items": null,
            "grid_row": null,
            "max_height": null,
            "align_content": null,
            "visibility": null,
            "align_self": null,
            "height": null,
            "min_height": null,
            "padding": null,
            "grid_auto_rows": null,
            "grid_gap": null,
            "max_width": null,
            "order": null,
            "_view_module_version": "1.2.0",
            "grid_template_areas": null,
            "object_position": null,
            "object_fit": null,
            "grid_auto_columns": null,
            "margin": null,
            "display": null,
            "left": null
          }
        },
        "b54f72908ad74e018a73bcd9e73872ad": {
          "model_module": "@jupyter-widgets/controls",
          "model_name": "DescriptionStyleModel",
          "state": {
            "_view_name": "StyleView",
            "_model_name": "DescriptionStyleModel",
            "description_width": "",
            "_view_module": "@jupyter-widgets/base",
            "_model_module_version": "1.5.0",
            "_view_count": null,
            "_view_module_version": "1.2.0",
            "_model_module": "@jupyter-widgets/controls"
          }
        },
        "a63a00bb2dd4468891d0a5f2a623256c": {
          "model_module": "@jupyter-widgets/base",
          "model_name": "LayoutModel",
          "state": {
            "_view_name": "LayoutView",
            "grid_template_rows": null,
            "right": null,
            "justify_content": null,
            "_view_module": "@jupyter-widgets/base",
            "overflow": null,
            "_model_module_version": "1.2.0",
            "_view_count": null,
            "flex_flow": null,
            "width": null,
            "min_width": null,
            "border": null,
            "align_items": null,
            "bottom": null,
            "_model_module": "@jupyter-widgets/base",
            "top": null,
            "grid_column": null,
            "overflow_y": null,
            "overflow_x": null,
            "grid_auto_flow": null,
            "grid_area": null,
            "grid_template_columns": null,
            "flex": null,
            "_model_name": "LayoutModel",
            "justify_items": null,
            "grid_row": null,
            "max_height": null,
            "align_content": null,
            "visibility": null,
            "align_self": null,
            "height": null,
            "min_height": null,
            "padding": null,
            "grid_auto_rows": null,
            "grid_gap": null,
            "max_width": null,
            "order": null,
            "_view_module_version": "1.2.0",
            "grid_template_areas": null,
            "object_position": null,
            "object_fit": null,
            "grid_auto_columns": null,
            "margin": null,
            "display": null,
            "left": null
          }
        }
      }
    }
  },
  "cells": [
    {
      "cell_type": "markdown",
      "metadata": {
        "id": "view-in-github",
        "colab_type": "text"
      },
      "source": [
        "<a href=\"https://colab.research.google.com/github/Rohan-Witty/Implementation/blob/main/ResNet_impl_imagenet_model_for_cifar10.ipynb\" target=\"_parent\"><img src=\"https://colab.research.google.com/assets/colab-badge.svg\" alt=\"Open In Colab\"/></a>"
      ]
    },
    {
      "cell_type": "code",
      "metadata": {
        "id": "qnlbfyDnnUyp"
      },
      "source": [
        "import torch\n",
        "from torch import nn\n",
        "from torch.utils.data import DataLoader\n",
        "from torchvision import datasets\n",
        "from torchvision.transforms import ToTensor, Lambda, Compose\n",
        "import matplotlib.pyplot as plt"
      ],
      "execution_count": 2,
      "outputs": []
    },
    {
      "cell_type": "code",
      "metadata": {
        "colab": {
          "base_uri": "https://localhost:8080/"
        },
        "id": "tbSG_F5YHEom",
        "outputId": "24e5784e-6ba2-4d5d-8356-130291a83c5b"
      },
      "source": [
        "from google.colab import drive\n",
        "drive.mount('/content/drive')"
      ],
      "execution_count": 3,
      "outputs": [
        {
          "output_type": "stream",
          "text": [
            "Drive already mounted at /content/drive; to attempt to forcibly remount, call drive.mount(\"/content/drive\", force_remount=True).\n"
          ],
          "name": "stdout"
        }
      ]
    },
    {
      "cell_type": "code",
      "metadata": {
        "colab": {
          "base_uri": "https://localhost:8080/",
          "height": 117,
          "referenced_widgets": [
            "2cbbd4dd96664055bd812a4df95e7bba",
            "9c355713676b4185a00876eebef39772",
            "ebf811863d0c4937a464cc20762032e2",
            "743b44eb2153463b91f70869ea84b07c",
            "c9a912886fc148fba4658cbba3251cf7",
            "5fc4ec6ec5384ef3bf347acaff77c394",
            "b54f72908ad74e018a73bcd9e73872ad",
            "a63a00bb2dd4468891d0a5f2a623256c"
          ]
        },
        "id": "1u8ttKCFZ2Rj",
        "outputId": "cf72ef33-fa6e-4208-cbce-c9771f65671f"
      },
      "source": [
        "#Importing the CIFAR10 dataset in tensors\n",
        "training_data = datasets.CIFAR10(\n",
        "    root = './data',\n",
        "    train = True,\n",
        "    download = True,\n",
        "    transform = ToTensor(),\n",
        ")\n",
        "testing_data = datasets.CIFAR10(\n",
        "    root = './data',\n",
        "    train = False,\n",
        "    download = True,\n",
        "    transform = ToTensor(),\n",
        ")"
      ],
      "execution_count": 4,
      "outputs": [
        {
          "output_type": "stream",
          "text": [
            "Downloading https://www.cs.toronto.edu/~kriz/cifar-10-python.tar.gz to ./data/cifar-10-python.tar.gz\n"
          ],
          "name": "stdout"
        },
        {
          "output_type": "display_data",
          "data": {
            "application/vnd.jupyter.widget-view+json": {
              "model_id": "2cbbd4dd96664055bd812a4df95e7bba",
              "version_minor": 0,
              "version_major": 2
            },
            "text/plain": [
              "HBox(children=(FloatProgress(value=0.0, max=170498071.0), HTML(value='')))"
            ]
          },
          "metadata": {
            "tags": []
          }
        },
        {
          "output_type": "stream",
          "text": [
            "\n",
            "Extracting ./data/cifar-10-python.tar.gz to ./data\n",
            "Files already downloaded and verified\n"
          ],
          "name": "stdout"
        }
      ]
    },
    {
      "cell_type": "code",
      "metadata": {
        "colab": {
          "base_uri": "https://localhost:8080/"
        },
        "id": "-XKf8r4Jci5I",
        "outputId": "2c557cc9-985c-4acc-b144-7d3e813c6f94"
      },
      "source": [
        "batch_size = 128\n",
        "#Using the dataloader the load the data from the dataset\n",
        "train_dataloader = DataLoader(training_data, batch_size = batch_size)\n",
        "test_dataloader = DataLoader(testing_data, batch_size = batch_size)\n",
        "for X, y in test_dataloader:\n",
        "    print(\"Shape of X [N, C, H, W]: \", X.shape, X.dtype)\n",
        "    print(\"Shape of y: \", y.shape, y.dtype)\n",
        "    break"
      ],
      "execution_count": 5,
      "outputs": [
        {
          "output_type": "stream",
          "text": [
            "Shape of X [N, C, H, W]:  torch.Size([128, 3, 32, 32]) torch.float32\n",
            "Shape of y:  torch.Size([128]) torch.int64\n"
          ],
          "name": "stdout"
        }
      ]
    },
    {
      "cell_type": "code",
      "metadata": {
        "colab": {
          "base_uri": "https://localhost:8080/"
        },
        "id": "FyxEn-uRd9v5",
        "outputId": "93457d98-9841-4361-d92d-84f9a601e570"
      },
      "source": [
        "torch.cuda.is_available()"
      ],
      "execution_count": 6,
      "outputs": [
        {
          "output_type": "execute_result",
          "data": {
            "text/plain": [
              "True"
            ]
          },
          "metadata": {
            "tags": []
          },
          "execution_count": 6
        }
      ]
    },
    {
      "cell_type": "code",
      "metadata": {
        "id": "qCe8NEtwfptK"
      },
      "source": [
        "#An 18 layer plain network without residual connections following the architecture shown in table 1 of the resnet paper https://arxiv.org/pdf/1512.03385.pdf\n",
        "class VggLike(nn.Module):\n",
        "    def __init__(self):\n",
        "        super(VggLike, self).__init__()\n",
        "        self.conv_stack_1 = nn.Sequential(\n",
        "            nn.Conv2d(in_channels = 3, out_channels = 64, kernel_size= (7,7), stride = 2, padding=3)\n",
        "        )\n",
        "        self.conv_stack_2 = nn.Sequential(\n",
        "            nn.MaxPool2d(kernel_size= (3,3), stride=2, padding = 1),\n",
        "            nn.Conv2d(in_channels = 64, out_channels = 64, kernel_size= (3,3), stride = 1, padding = 'same',),\n",
        "            nn.BatchNorm2d(64, eps=1e-05, momentum=0.1,),\n",
        "            nn.ReLU(),\n",
        "            nn.Conv2d(in_channels = 64, out_channels = 64, kernel_size= (3,3), stride = 1, padding = 'same',),\n",
        "            nn.BatchNorm2d(64, eps=1e-05, momentum=0.1,),\n",
        "            nn.ReLU(),\n",
        "            nn.Conv2d(in_channels = 64, out_channels = 64, kernel_size= (3,3), stride = 1, padding = 'same',),\n",
        "            nn.BatchNorm2d(64, eps=1e-05, momentum=0.1,),\n",
        "            nn.ReLU(),\n",
        "            nn.Conv2d(in_channels = 64, out_channels = 64, kernel_size= (3,3), stride = 1, padding = 'same',),\n",
        "            nn.BatchNorm2d(64, eps=1e-05, momentum=0.1,),\n",
        "            nn.ReLU(),\n",
        "        )\n",
        "        self.conv_stack_3 = nn.Sequential(\n",
        "            nn.Conv2d(in_channels = 64, out_channels = 128, kernel_size= (3,3), stride = 2,padding = 1),\n",
        "            nn.BatchNorm2d(128, eps=1e-05, momentum=0.1,),\n",
        "            nn.ReLU(),\n",
        "            nn.Conv2d(in_channels = 128, out_channels = 128, kernel_size= (3,3), stride = 1, padding = 'same',),\n",
        "            nn.BatchNorm2d(128, eps=1e-05, momentum=0.1,),\n",
        "            nn.ReLU(),\n",
        "            nn.Conv2d(in_channels = 128, out_channels = 128, kernel_size= (3,3), stride = 1, padding = 'same',),\n",
        "            nn.BatchNorm2d(128, eps=1e-05, momentum=0.1,),\n",
        "            nn.ReLU(),\n",
        "            nn.Conv2d(in_channels = 128, out_channels = 128, kernel_size= (3,3), stride = 1, padding = 'same',),\n",
        "            nn.BatchNorm2d(128, eps=1e-05, momentum=0.1,),\n",
        "            nn.ReLU(),\n",
        "        )\n",
        "        self.conv_stack_4 = nn.Sequential(\n",
        "            nn.Conv2d(in_channels = 128, out_channels = 256, kernel_size= (3,3), stride = 2, padding = 1),\n",
        "            nn.BatchNorm2d(256, eps=1e-05, momentum=0.1,),\n",
        "            nn.ReLU(),\n",
        "            nn.Conv2d(in_channels = 256, out_channels = 256, kernel_size= (3,3), stride = 1, padding = 'same',),\n",
        "            nn.BatchNorm2d(256, eps=1e-05, momentum=0.1,),\n",
        "            nn.ReLU(),\n",
        "            nn.Conv2d(in_channels = 256, out_channels = 256, kernel_size= (3,3), stride = 1, padding = 'same',),\n",
        "            nn.BatchNorm2d(256, eps=1e-05, momentum=0.1,),\n",
        "            nn.ReLU(),\n",
        "            nn.Conv2d(in_channels = 256, out_channels = 256, kernel_size= (3,3), stride = 1, padding = 'same',),\n",
        "            nn.BatchNorm2d(256, eps=1e-05, momentum=0.1,),\n",
        "            nn.ReLU(),\n",
        "        )\n",
        "        self.conv_stack_5 = nn.Sequential(\n",
        "            nn.Conv2d(in_channels = 256, out_channels = 512, kernel_size= (3,3), stride = 2, padding = 1),\n",
        "            nn.BatchNorm2d(512, eps=1e-05, momentum=0.1,),\n",
        "            nn.ReLU(),\n",
        "            nn.Conv2d(in_channels = 512, out_channels = 512, kernel_size= (3,3), stride = 1, padding = 'same',),\n",
        "            nn.BatchNorm2d(512, eps=1e-05, momentum=0.1,),\n",
        "            nn.ReLU(),\n",
        "            nn.Conv2d(in_channels = 512, out_channels = 512, kernel_size= (3,3), stride = 1, padding = 'same',),\n",
        "            nn.BatchNorm2d(512, eps=1e-05, momentum=0.1,),\n",
        "            nn.ReLU(),\n",
        "            nn.Conv2d(in_channels = 512, out_channels = 512, kernel_size= (3,3), stride = 1, padding = 'same',),\n",
        "            nn.BatchNorm2d(512, eps=1e-05, momentum=0.1,),\n",
        "            nn.ReLU(),\n",
        "            nn.AvgPool2d(kernel_size= (3,3), stride =1, ),\n",
        "        )\n",
        "        self.fcsoftmax = nn.Sequential(\n",
        "            nn.Linear(12800,10),\n",
        "            #nn.Softmax(1),     \n",
        "            #Not using softmax because the loss being used is cross entropy loss which already contains softmax\n",
        "        )\n",
        "        self.flatten = nn.Flatten()\n",
        "        \n",
        "    def forward(self, x):\n",
        "        x = self.conv_stack_1(x)\n",
        "        x = self.conv_stack_2(x)\n",
        "        x = self.conv_stack_3(x)\n",
        "        x = self.conv_stack_4(x)\n",
        "        x = self.conv_stack_5(x)\n",
        "        x = self.flatten(x)\n",
        "        logits = self.fcsoftmax(x)\n",
        "        return logits"
      ],
      "execution_count": 7,
      "outputs": []
    },
    {
      "cell_type": "code",
      "metadata": {
        "id": "QRf0Se4-4AC4"
      },
      "source": [
        "#Residual connections added to the above 18 layer plain network without residual connections following the architecture shown in table 1 of the resnet paper https://arxiv.org/pdf/1512.03385.pdf\n",
        "class ResNet(nn.Module):\n",
        "    def __init__(self):\n",
        "        super(ResNet, self).__init__()\n",
        "        self.conv_stack_1 = nn.Sequential(\n",
        "            nn.Conv2d(in_channels = 3, out_channels = 64, kernel_size= (7,7), stride = 2, padding=3)\n",
        "        )\n",
        "        self.conv_stack_2_pool = nn.Sequential(\n",
        "            nn.MaxPool2d(kernel_size= (3,3), stride=2, padding = 1),\n",
        "        )\n",
        "        self.conv_stack_2_1 = nn.Sequential(\n",
        "            nn.Conv2d(in_channels = 64, out_channels = 64, kernel_size= (3,3), stride = 1, padding = 'same',),\n",
        "            nn.BatchNorm2d(64, eps=1e-05, momentum=0.1, ),\n",
        "            nn.ReLU(),\n",
        "            nn.Conv2d(in_channels = 64, out_channels = 64, kernel_size= (3,3), stride = 1, padding = 'same',),\n",
        "            nn.BatchNorm2d(64, eps=1e-05, momentum=0.1,),\n",
        "        )\n",
        "        self.conv_stack_2_2 = nn.Sequential(    \n",
        "            nn.ReLU(),\n",
        "            nn.Conv2d(in_channels = 64, out_channels = 64, kernel_size= (3,3), stride = 1, padding = 'same',),\n",
        "            nn.BatchNorm2d(64, eps=1e-05, momentum=0.1,),\n",
        "            nn.ReLU(),\n",
        "            nn.Conv2d(in_channels = 64, out_channels = 64, kernel_size= (3,3), stride = 1, padding = 'same',),\n",
        "            nn.BatchNorm2d(64, eps=1e-05, momentum=0.1,),\n",
        "        )\n",
        "        self.conv_stack_3_1 = nn.Sequential(\n",
        "            nn.ReLU(),\n",
        "            nn.Conv2d(in_channels = 64, out_channels = 128, kernel_size= (3,3), stride = 2,padding = 1),\n",
        "            nn.BatchNorm2d(128, eps=1e-05, momentum=0.1,),\n",
        "            nn.ReLU(),\n",
        "            nn.Conv2d(in_channels = 128, out_channels = 128, kernel_size= (3,3), stride = 1, padding = 'same',),\n",
        "            nn.BatchNorm2d(128, eps=1e-05, momentum=0.1,),\n",
        "        )\n",
        "        self.conv_projection_1 = nn.Sequential(\n",
        "            nn.Conv2d(in_channels=64, out_channels=128, kernel_size=1, stride = 2),\n",
        "            nn.BatchNorm2d(128),\n",
        "        )\n",
        "        self.conv_stack_3_2 = nn.Sequential(\n",
        "            nn.ReLU(),\n",
        "            nn.Conv2d(in_channels = 128, out_channels = 128, kernel_size= (3,3), stride = 1, padding = 'same',),\n",
        "            nn.BatchNorm2d(128, eps=1e-05, momentum=0.1,),\n",
        "            nn.ReLU(),\n",
        "            nn.Conv2d(in_channels = 128, out_channels = 128, kernel_size= (3,3), stride = 1, padding = 'same',),\n",
        "            nn.BatchNorm2d(128, eps=1e-05, momentum=0.1,),\n",
        "        )\n",
        "        self.conv_stack_4_1 = nn.Sequential(\n",
        "            nn.ReLU(),\n",
        "            nn.Conv2d(in_channels = 128, out_channels = 256, kernel_size= (3,3), stride = 2, padding = 1),\n",
        "            nn.BatchNorm2d(256, eps=1e-05, momentum=0.1,),\n",
        "            nn.ReLU(),\n",
        "            nn.Conv2d(in_channels = 256, out_channels = 256, kernel_size= (3,3), stride = 1, padding = 'same',),\n",
        "            nn.BatchNorm2d(256, eps=1e-05, momentum=0.1,),\n",
        "        )\n",
        "        self.conv_projection_2 = nn.Sequential(\n",
        "            nn.Conv2d(in_channels=128, out_channels=256, kernel_size=1, stride = 2),\n",
        "            nn.BatchNorm2d(256),\n",
        "        )\n",
        "        self.conv_stack_4_2 = nn.Sequential(\n",
        "            nn.ReLU(),\n",
        "            nn.Conv2d(in_channels = 256, out_channels = 256, kernel_size= (3,3), stride = 1, padding = 'same',),\n",
        "            nn.BatchNorm2d(256, eps=1e-05, momentum=0.1,),\n",
        "            nn.ReLU(),\n",
        "            nn.Conv2d(in_channels = 256, out_channels = 256, kernel_size= (3,3), stride = 1, padding = 'same',),\n",
        "            nn.BatchNorm2d(256, eps=1e-05, momentum=0.1,),\n",
        "        )\n",
        "        self.conv_stack_5_1 = nn.Sequential(\n",
        "            nn.ReLU(),\n",
        "            nn.Conv2d(in_channels = 256, out_channels = 512, kernel_size= (3,3), stride = 2, padding = 1),\n",
        "            nn.BatchNorm2d(512, eps=1e-05, momentum=0.1,),\n",
        "            nn.ReLU(),\n",
        "            nn.Conv2d(in_channels = 512, out_channels = 512, kernel_size= (3,3), stride = 1, padding = 'same',),\n",
        "            nn.BatchNorm2d(512, eps=1e-05, momentum=0.1,),\n",
        "        )\n",
        "        self.conv_projection_3 = nn.Sequential(\n",
        "            nn.Conv2d(in_channels=256, out_channels=512, kernel_size=1, stride = 2),\n",
        "            nn.BatchNorm2d(512),\n",
        "        )\n",
        "        self.conv_stack_5_2 = nn.Sequential(\n",
        "            nn.ReLU(),\n",
        "            nn.Conv2d(in_channels = 512, out_channels = 512, kernel_size= (3,3), stride = 1, padding = 'same',),\n",
        "            nn.BatchNorm2d(512, eps=1e-05, momentum=0.1,),\n",
        "            nn.ReLU(),\n",
        "            nn.Conv2d(in_channels = 512, out_channels = 512, kernel_size= (3,3), stride = 1, padding = 'same',),\n",
        "            nn.BatchNorm2d(512, eps=1e-05, momentum=0.1,),\n",
        "        )\n",
        "        self.conv_stack_5_pool = nn.Sequential(            \n",
        "            nn.ReLU(),\n",
        "            nn.AvgPool2d(kernel_size= (3,3), stride =1, ),\n",
        "        )\n",
        "        self.fcsoftmax = nn.Sequential(\n",
        "            nn.Linear(12800,10),\n",
        "            #nn.Softmax(1),\n",
        "            #Not using softmax because the loss being used is cross entropy loss which already contains softmax\n",
        "\n",
        "        )\n",
        "        self.flatten = nn.Flatten()\n",
        "        \n",
        "    def forward(self, x):\n",
        "        x_1 = self.conv_stack_1(x)\n",
        "        x_2_pool = self.conv_stack_2_pool(x_1)\n",
        "        x_2_1 = self.conv_stack_2_1(x_2_pool)\n",
        "        x_2_2 = self.conv_stack_2_2(x_2_1 + x_2_pool)\n",
        "        x_3_1 = self.conv_stack_3_1(x_2_2 + x_2_1)\n",
        "  \n",
        "        x_3_2 = self.conv_stack_3_2(x_3_1 + self.conv_projection_1(x_2_2))\n",
        "        x_4_1 = self.conv_stack_4_1(x_3_2 + x_3_1)\n",
        "\n",
        "        x_4_2 = self.conv_stack_4_2(x_4_1 + self.conv_projection_2(x_3_2))\n",
        "        x_5_1 = self.conv_stack_5_1(x_4_2 + x_4_1)\n",
        "        \n",
        "        x_5_2 = self.conv_stack_5_2(x_5_1 + self.conv_projection_3(x_4_2))\n",
        "        out = self.flatten(self.conv_stack_5_pool(x_5_2))\n",
        "        logits = self.fcsoftmax(out)\n",
        "        return logits"
      ],
      "execution_count": 8,
      "outputs": []
    },
    {
      "cell_type": "code",
      "metadata": {
        "id": "CZdV7oHt_lC-",
        "colab": {
          "base_uri": "https://localhost:8080/"
        },
        "outputId": "d5d78968-283c-4048-eb9e-9bdc227e7e78"
      },
      "source": [
        "device = \"cuda\" if torch.cuda.is_available() else \"cpu\"   \n",
        "#device used to check whether the model and weights are loaded to the gpu or the cpu\n",
        "model = VggLike().to(device)\n",
        "#NOTE: PATH MAY HAVE TO BE CHANGED BASED ON FILE STRUCTURE\n",
        "model.load_state_dict(torch.load('./weights/Cifar1.pth',map_location=torch.device(device))) \n",
        "#print(model) #torchsummary in the next cell is more extensive than print(model)\n",
        "\n",
        "model_res = ResNet().to(device)\n",
        "#NOTE: PATH MAY HAVE TO BE CHANGED BASED ON FILE STRUCTURE\n",
        "model_res.load_state_dict(torch.load('./weights/Cifar10resnet.pth',map_location=torch.device(device)))\n",
        "#print(model_res)   #torchsummary in the next cell is more extensive than print(model)"
      ],
      "execution_count": 9,
      "outputs": [
        {
          "output_type": "execute_result",
          "data": {
            "text/plain": [
              "<All keys matched successfully>"
            ]
          },
          "metadata": {
            "tags": []
          },
          "execution_count": 9
        }
      ]
    },
    {
      "cell_type": "code",
      "metadata": {
        "id": "stoXpkUsAIQu",
        "colab": {
          "base_uri": "https://localhost:8080/"
        },
        "outputId": "579c2665-6321-4621-c812-e43c6f5ddbfe"
      },
      "source": [
        "from torchsummary import summary\n",
        "summary(model, input_size=(3, 224, 224))\n",
        "\n",
        "summary(model_res, input_size = (3,224,224))"
      ],
      "execution_count": 10,
      "outputs": [
        {
          "output_type": "stream",
          "text": [
            "----------------------------------------------------------------\n",
            "        Layer (type)               Output Shape         Param #\n",
            "================================================================\n",
            "            Conv2d-1         [-1, 64, 112, 112]           9,472\n",
            "         MaxPool2d-2           [-1, 64, 56, 56]               0\n",
            "            Conv2d-3           [-1, 64, 56, 56]          36,928\n",
            "       BatchNorm2d-4           [-1, 64, 56, 56]             128\n",
            "              ReLU-5           [-1, 64, 56, 56]               0\n",
            "            Conv2d-6           [-1, 64, 56, 56]          36,928\n",
            "       BatchNorm2d-7           [-1, 64, 56, 56]             128\n",
            "              ReLU-8           [-1, 64, 56, 56]               0\n",
            "            Conv2d-9           [-1, 64, 56, 56]          36,928\n",
            "      BatchNorm2d-10           [-1, 64, 56, 56]             128\n",
            "             ReLU-11           [-1, 64, 56, 56]               0\n",
            "           Conv2d-12           [-1, 64, 56, 56]          36,928\n",
            "      BatchNorm2d-13           [-1, 64, 56, 56]             128\n",
            "             ReLU-14           [-1, 64, 56, 56]               0\n",
            "           Conv2d-15          [-1, 128, 28, 28]          73,856\n",
            "      BatchNorm2d-16          [-1, 128, 28, 28]             256\n",
            "             ReLU-17          [-1, 128, 28, 28]               0\n",
            "           Conv2d-18          [-1, 128, 28, 28]         147,584\n",
            "      BatchNorm2d-19          [-1, 128, 28, 28]             256\n",
            "             ReLU-20          [-1, 128, 28, 28]               0\n",
            "           Conv2d-21          [-1, 128, 28, 28]         147,584\n",
            "      BatchNorm2d-22          [-1, 128, 28, 28]             256\n",
            "             ReLU-23          [-1, 128, 28, 28]               0\n",
            "           Conv2d-24          [-1, 128, 28, 28]         147,584\n",
            "      BatchNorm2d-25          [-1, 128, 28, 28]             256\n",
            "             ReLU-26          [-1, 128, 28, 28]               0\n",
            "           Conv2d-27          [-1, 256, 14, 14]         295,168\n",
            "      BatchNorm2d-28          [-1, 256, 14, 14]             512\n",
            "             ReLU-29          [-1, 256, 14, 14]               0\n",
            "           Conv2d-30          [-1, 256, 14, 14]         590,080\n",
            "      BatchNorm2d-31          [-1, 256, 14, 14]             512\n",
            "             ReLU-32          [-1, 256, 14, 14]               0\n",
            "           Conv2d-33          [-1, 256, 14, 14]         590,080\n",
            "      BatchNorm2d-34          [-1, 256, 14, 14]             512\n",
            "             ReLU-35          [-1, 256, 14, 14]               0\n",
            "           Conv2d-36          [-1, 256, 14, 14]         590,080\n",
            "      BatchNorm2d-37          [-1, 256, 14, 14]             512\n",
            "             ReLU-38          [-1, 256, 14, 14]               0\n",
            "           Conv2d-39            [-1, 512, 7, 7]       1,180,160\n",
            "      BatchNorm2d-40            [-1, 512, 7, 7]           1,024\n",
            "             ReLU-41            [-1, 512, 7, 7]               0\n",
            "           Conv2d-42            [-1, 512, 7, 7]       2,359,808\n",
            "      BatchNorm2d-43            [-1, 512, 7, 7]           1,024\n",
            "             ReLU-44            [-1, 512, 7, 7]               0\n",
            "           Conv2d-45            [-1, 512, 7, 7]       2,359,808\n",
            "      BatchNorm2d-46            [-1, 512, 7, 7]           1,024\n",
            "             ReLU-47            [-1, 512, 7, 7]               0\n",
            "           Conv2d-48            [-1, 512, 7, 7]       2,359,808\n",
            "      BatchNorm2d-49            [-1, 512, 7, 7]           1,024\n",
            "             ReLU-50            [-1, 512, 7, 7]               0\n",
            "        AvgPool2d-51            [-1, 512, 5, 5]               0\n",
            "          Flatten-52                [-1, 12800]               0\n",
            "           Linear-53                   [-1, 10]         128,010\n",
            "================================================================\n",
            "Total params: 11,134,474\n",
            "Trainable params: 11,134,474\n",
            "Non-trainable params: 0\n",
            "----------------------------------------------------------------\n",
            "Input size (MB): 0.57\n",
            "Forward/backward pass size (MB): 42.30\n",
            "Params size (MB): 42.47\n",
            "Estimated Total Size (MB): 85.35\n",
            "----------------------------------------------------------------\n",
            "----------------------------------------------------------------\n",
            "        Layer (type)               Output Shape         Param #\n",
            "================================================================\n",
            "            Conv2d-1         [-1, 64, 112, 112]           9,472\n",
            "         MaxPool2d-2           [-1, 64, 56, 56]               0\n",
            "            Conv2d-3           [-1, 64, 56, 56]          36,928\n",
            "       BatchNorm2d-4           [-1, 64, 56, 56]             128\n",
            "              ReLU-5           [-1, 64, 56, 56]               0\n",
            "            Conv2d-6           [-1, 64, 56, 56]          36,928\n",
            "       BatchNorm2d-7           [-1, 64, 56, 56]             128\n",
            "              ReLU-8           [-1, 64, 56, 56]               0\n",
            "            Conv2d-9           [-1, 64, 56, 56]          36,928\n",
            "      BatchNorm2d-10           [-1, 64, 56, 56]             128\n",
            "             ReLU-11           [-1, 64, 56, 56]               0\n",
            "           Conv2d-12           [-1, 64, 56, 56]          36,928\n",
            "      BatchNorm2d-13           [-1, 64, 56, 56]             128\n",
            "             ReLU-14           [-1, 64, 56, 56]               0\n",
            "           Conv2d-15          [-1, 128, 28, 28]          73,856\n",
            "      BatchNorm2d-16          [-1, 128, 28, 28]             256\n",
            "             ReLU-17          [-1, 128, 28, 28]               0\n",
            "           Conv2d-18          [-1, 128, 28, 28]         147,584\n",
            "      BatchNorm2d-19          [-1, 128, 28, 28]             256\n",
            "           Conv2d-20          [-1, 128, 28, 28]           8,320\n",
            "      BatchNorm2d-21          [-1, 128, 28, 28]             256\n",
            "             ReLU-22          [-1, 128, 28, 28]               0\n",
            "           Conv2d-23          [-1, 128, 28, 28]         147,584\n",
            "      BatchNorm2d-24          [-1, 128, 28, 28]             256\n",
            "             ReLU-25          [-1, 128, 28, 28]               0\n",
            "           Conv2d-26          [-1, 128, 28, 28]         147,584\n",
            "      BatchNorm2d-27          [-1, 128, 28, 28]             256\n",
            "             ReLU-28          [-1, 128, 28, 28]               0\n",
            "           Conv2d-29          [-1, 256, 14, 14]         295,168\n",
            "      BatchNorm2d-30          [-1, 256, 14, 14]             512\n",
            "             ReLU-31          [-1, 256, 14, 14]               0\n",
            "           Conv2d-32          [-1, 256, 14, 14]         590,080\n",
            "      BatchNorm2d-33          [-1, 256, 14, 14]             512\n",
            "           Conv2d-34          [-1, 256, 14, 14]          33,024\n",
            "      BatchNorm2d-35          [-1, 256, 14, 14]             512\n",
            "             ReLU-36          [-1, 256, 14, 14]               0\n",
            "           Conv2d-37          [-1, 256, 14, 14]         590,080\n",
            "      BatchNorm2d-38          [-1, 256, 14, 14]             512\n",
            "             ReLU-39          [-1, 256, 14, 14]               0\n",
            "           Conv2d-40          [-1, 256, 14, 14]         590,080\n",
            "      BatchNorm2d-41          [-1, 256, 14, 14]             512\n",
            "             ReLU-42          [-1, 256, 14, 14]               0\n",
            "           Conv2d-43            [-1, 512, 7, 7]       1,180,160\n",
            "      BatchNorm2d-44            [-1, 512, 7, 7]           1,024\n",
            "             ReLU-45            [-1, 512, 7, 7]               0\n",
            "           Conv2d-46            [-1, 512, 7, 7]       2,359,808\n",
            "      BatchNorm2d-47            [-1, 512, 7, 7]           1,024\n",
            "           Conv2d-48            [-1, 512, 7, 7]         131,584\n",
            "      BatchNorm2d-49            [-1, 512, 7, 7]           1,024\n",
            "             ReLU-50            [-1, 512, 7, 7]               0\n",
            "           Conv2d-51            [-1, 512, 7, 7]       2,359,808\n",
            "      BatchNorm2d-52            [-1, 512, 7, 7]           1,024\n",
            "             ReLU-53            [-1, 512, 7, 7]               0\n",
            "           Conv2d-54            [-1, 512, 7, 7]       2,359,808\n",
            "      BatchNorm2d-55            [-1, 512, 7, 7]           1,024\n",
            "             ReLU-56            [-1, 512, 7, 7]               0\n",
            "        AvgPool2d-57            [-1, 512, 5, 5]               0\n",
            "          Flatten-58                [-1, 12800]               0\n",
            "           Linear-59                   [-1, 10]         128,010\n",
            "================================================================\n",
            "Total params: 11,309,194\n",
            "Trainable params: 11,309,194\n",
            "Non-trainable params: 0\n",
            "----------------------------------------------------------------\n",
            "Input size (MB): 0.57\n",
            "Forward/backward pass size (MB): 44.98\n",
            "Params size (MB): 43.14\n",
            "Estimated Total Size (MB): 88.70\n",
            "----------------------------------------------------------------\n"
          ],
          "name": "stdout"
        },
        {
          "output_type": "stream",
          "text": [
            "/usr/local/lib/python3.7/dist-packages/torch/nn/functional.py:718: UserWarning: Named tensors and all their associated APIs are an experimental feature and subject to change. Please do not use them for anything important until they are released as stable. (Triggered internally at  /pytorch/c10/core/TensorImpl.h:1156.)\n",
            "  return torch.max_pool2d(input, kernel_size, stride, padding, dilation, ceil_mode)\n"
          ],
          "name": "stderr"
        }
      ]
    },
    {
      "cell_type": "code",
      "metadata": {
        "id": "cyybIujFPmZf"
      },
      "source": [
        "loss_fn = nn.CrossEntropyLoss()\n",
        "\n",
        "#optimizer = torch.optim.SGD(model_res.parameters(), lr=0.1,momentum = .9, weight_decay=.0001 ) \n",
        "#SGD optimier used for first 25 epochs in resnet and first 45 epochs in plain vgg-like\n",
        "optimizer = torch.optim.AdamW(model_res.parameters(), lr = 3e-3, weight_decay = 0.1) \n",
        "#Found out later that adam_w might be more effective for this model"
      ],
      "execution_count": 11,
      "outputs": []
    },
    {
      "cell_type": "code",
      "metadata": {
        "id": "0i8qGEx4WZZ5"
      },
      "source": [
        "'''\n",
        "Preprocessing the CIFAR10 inputs to match the image net \n",
        "dimensions followed by the preprocessing used for the imagenet model\n",
        "'''\n",
        "from torchvision.transforms import Resize, RandomHorizontalFlip, RandomCrop\n",
        "def preprocess(X):  \n",
        "    X = RandomHorizontalFlip(p=0.5)(RandomCrop(224)(Resize(256)(X)))\n",
        "    return X"
      ],
      "execution_count": 12,
      "outputs": []
    },
    {
      "cell_type": "code",
      "metadata": {
        "id": "PmUlYJISThq1"
      },
      "source": [
        "#Training function; s\n",
        "#Same function used for both the models based on the inputs passed\n",
        "def train(dataloader, model, loss_fn, optimizer):\n",
        "    size = len(dataloader.dataset)\n",
        "    model.train() #setting the model to training mode\n",
        "    \n",
        "    print(\"training size is :\", size)\n",
        "    for batch, (X, y) in enumerate(dataloader):\n",
        "        X, y = X.to(device), y.to(device) #loading X,y to gpub if available\n",
        "        X = preprocess(X)\n",
        "        # Compute prediction error\n",
        "        pred = model(X)\n",
        "        loss = loss_fn(pred, y) #cross entropy loss\n",
        "\n",
        "        # Backpropagation\n",
        "        optimizer.zero_grad()\n",
        "        loss.backward()\n",
        "        optimizer.step()\n",
        "\n",
        "        if batch % 100 == 0:\n",
        "            loss, current = loss.item(), batch * len(X)\n",
        "            print(f\"loss: {loss:>7f}  [{current:>5d}/{size:>5d}]\")"
      ],
      "execution_count": 13,
      "outputs": []
    },
    {
      "cell_type": "code",
      "metadata": {
        "id": "vNYbiWMGVytM"
      },
      "source": [
        "#Testing function; \n",
        "#Same function used for both the models based on the inputs passed\n",
        "\n",
        "def test(dataloader, model, loss_fn):\n",
        "    size = len(dataloader.dataset)\n",
        "    num_batches = len(dataloader)\n",
        "    model.eval() #setting the model to evaluation mode\n",
        "    test_loss, correct = 0, 0\n",
        "    print(\"training size is :\", size)\n",
        "    with torch.no_grad(): \n",
        "    #using no_grad to avoid accumulation of grads while training\n",
        "        for X, y in dataloader:\n",
        "            X, y = X.to(device), y.to(device)\n",
        "            X = preprocess(X)\n",
        "            pred = model(X)\n",
        "            test_loss += loss_fn(pred, y).item()\n",
        "            correct += (pred.argmax(1) == y).type(torch.float).sum().item()\n",
        "    test_loss /= num_batches\n",
        "    correct /= size\n",
        "    print(f\"Test Error: \\n Accuracy: {(100*correct):>0.1f}%, Avg loss: {test_loss:>8f} \\n\")\n"
      ],
      "execution_count": 14,
      "outputs": []
    },
    {
      "cell_type": "code",
      "metadata": {
        "id": "qnVfgkfciKkQ"
      },
      "source": [
        "#Same as above, just finding training error instead of testing(validation) error\n",
        "def train_error(dataloader, model, loss_fn):\n",
        "    size = len(dataloader.dataset)\n",
        "    num_batches = len(dataloader)\n",
        "    model.eval()  #setting the model to evaluation mode\n",
        "    test_loss, correct = 0, 0\n",
        "    print(\"training size is :\", size)\n",
        "    with torch.no_grad():\n",
        "    #Using no_grad to avoid accumulation of grads while training\n",
        "        for X, y in dataloader:\n",
        "            X, y = X.to(device), y.to(device)\n",
        "            X = preprocess(X)\n",
        "            pred = model(X)\n",
        "            test_loss += loss_fn(pred, y).item()\n",
        "            correct += (pred.argmax(1) == y).type(torch.float).sum().item()\n",
        "    test_loss /= num_batches\n",
        "    correct /= size\n",
        "    print(f\"Train Error: \\n Accuracy: {(100*correct):>0.1f}%, Avg loss: {test_loss:>8f} \\n\")"
      ],
      "execution_count": 17,
      "outputs": []
    },
    {
      "cell_type": "code",
      "metadata": {
        "id": "7KEH00B9V7hN",
        "colab": {
          "base_uri": "https://localhost:8080/",
          "height": 52
        },
        "outputId": "eee00f94-2b0b-471d-da0b-8c5f5bc3a97f"
      },
      "source": [
        "'''\n",
        "#Training loop; don't need to run unless weights need to be trained further\n",
        "epochs = 20\n",
        "\n",
        "for t in range(epochs):\n",
        "    print(f\"Epoch {t+1}\\n-------------------------------\")\n",
        "    train(train_dataloader, model_res, loss_fn, optimizer)\n",
        "    test(test_dataloader, model_res, loss_fn)\n",
        "print(\"Done!\")\n",
        "'''"
      ],
      "execution_count": 18,
      "outputs": [
        {
          "output_type": "execute_result",
          "data": {
            "application/vnd.google.colaboratory.intrinsic+json": {
              "type": "string"
            },
            "text/plain": [
              "'\\n#Training loop; don\\'t need to run unless weights need to be trained further\\nepochs = 20\\n\\nfor t in range(epochs):\\n    print(f\"Epoch {t+1}\\n-------------------------------\")\\n    train(train_dataloader, model_res, loss_fn, optimizer)\\n    test(test_dataloader, model_res, loss_fn)\\nprint(\"Done!\")\\n'"
            ]
          },
          "metadata": {
            "tags": []
          },
          "execution_count": 18
        }
      ]
    },
    {
      "cell_type": "code",
      "metadata": {
        "id": "lLf-KibJkTEm",
        "colab": {
          "base_uri": "https://localhost:8080/",
          "height": 52
        },
        "outputId": "74318931-db7a-4976-bc1b-887238147f94"
      },
      "source": [
        "'''\n",
        "#Don't need to run unless weights need to be replaced\n",
        "torch.save(model_res.state_dict(), \"/content/drive/MyDrive/Implementations/Cifar10resnet.pth\")\n",
        "print(\"Saved PyTorch Model State to model.pth\")\n",
        "'''"
      ],
      "execution_count": 19,
      "outputs": [
        {
          "output_type": "execute_result",
          "data": {
            "application/vnd.google.colaboratory.intrinsic+json": {
              "type": "string"
            },
            "text/plain": [
              "'\\n#Don\\'t need to run unless weights need to be replaced\\ntorch.save(model_res.state_dict(), \"/content/drive/MyDrive/Implementations/Cifar10resnet.pth\")\\nprint(\"Saved PyTorch Model State to model.pth\")\\n'"
            ]
          },
          "metadata": {
            "tags": []
          },
          "execution_count": 19
        }
      ]
    },
    {
      "cell_type": "code",
      "metadata": {
        "colab": {
          "base_uri": "https://localhost:8080/"
        },
        "id": "Up4PzXsMk8Wf",
        "outputId": "1419f59f-0b43-4e8a-8494-8bb602ebafca"
      },
      "source": [
        "print(\"For VGG-Like PLAIN MODEL:\\n\")\n",
        "train_error(train_dataloader, model, loss_fn)\n",
        "test(test_dataloader, model, loss_fn)"
      ],
      "execution_count": 21,
      "outputs": [
        {
          "output_type": "stream",
          "text": [
            "For VGG-Like PLAIN MODEL:\n",
            "\n",
            "training size is : 50000\n",
            "Train Error: \n",
            " Accuracy: 88.5%, Avg loss: 0.336613 \n",
            "\n",
            "training size is : 10000\n",
            "Test Error: \n",
            " Accuracy: 80.5%, Avg loss: 0.707462 \n",
            "\n"
          ],
          "name": "stdout"
        }
      ]
    },
    {
      "cell_type": "code",
      "metadata": {
        "colab": {
          "base_uri": "https://localhost:8080/"
        },
        "id": "xb0SlXUKhgOC",
        "outputId": "59eecd36-89c4-4470-f890-a8aca52ee966"
      },
      "source": [
        "print(\"For RESNET MODEL:\\n\")\n",
        "train_error(train_dataloader, model_res, loss_fn)\n",
        "test(test_dataloader, model_res, loss_fn)"
      ],
      "execution_count": 22,
      "outputs": [
        {
          "output_type": "stream",
          "text": [
            "For RESNET MODEL:\n",
            "\n",
            "training size is : 50000\n",
            "Train Error: \n",
            " Accuracy: 88.7%, Avg loss: 0.327476 \n",
            "\n",
            "training size is : 10000\n",
            "Test Error: \n",
            " Accuracy: 84.0%, Avg loss: 0.502976 \n",
            "\n"
          ],
          "name": "stdout"
        }
      ]
    }
  ]
}